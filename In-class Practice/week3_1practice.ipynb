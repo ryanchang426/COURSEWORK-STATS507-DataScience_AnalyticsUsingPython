{
 "cells": [
  {
   "cell_type": "markdown",
   "id": "a5dbb53f-8913-4905-900a-dac458aa6e46",
   "metadata": {},
   "source": [
    "# STATS 507, Week 3-1 practice"
   ]
  },
  {
   "cell_type": "markdown",
   "id": "ea5aa07d-77e8-4446-868b-484a54c6f12f",
   "metadata": {},
   "source": [
    "### Problem 1\n",
    "\n",
    "\n",
    "Use a for loop and list comprehension to create a new list containing the square of the even numbers."
   ]
  },
  {
   "cell_type": "code",
   "execution_count": 16,
   "id": "7fa5b9df-301a-4a45-8e5d-86dd6a6e6b69",
   "metadata": {},
   "outputs": [
    {
     "name": "stdout",
     "output_type": "stream",
     "text": [
      "squares_using_loop [4, 16, 36, 64, 100, 144, 196]\n"
     ]
    }
   ],
   "source": [
    "numbers = [1, 2, 3, 4, 5, 6, 7, 8, 9, 10, 11, 12, 13, 14, 15]\n",
    "\n",
    "# Equivalent for loop\n",
    "squares_using_loop = []\n",
    "for x in numbers:\n",
    "    if x%2 == 0:\n",
    "        squares_using_loop.append(x**2)\n",
    "\n",
    "# expected [4, 16, 36, 64, 100, 144, 196]\n",
    "print(\"squares_using_loop\", squares_using_loop)"
   ]
  },
  {
   "cell_type": "code",
   "execution_count": 18,
   "id": "6a5c948e-1430-4b32-9a97-3d98bc97813c",
   "metadata": {},
   "outputs": [
    {
     "name": "stdout",
     "output_type": "stream",
     "text": [
      "Even numbers: [4, 16, 36, 64, 100, 144, 196]\n"
     ]
    }
   ],
   "source": [
    "# Using list comprehension.\n",
    "squares_using_list_comprehension = [x**2 for x in numbers if x%2 == 0]\n",
    "\n",
    "print(\"Even numbers:\", squares_using_list_comprehension)\n",
    "assert squares_using_loop == squares_using_list_comprehension"
   ]
  },
  {
   "cell_type": "markdown",
   "id": "cb5bdf8a-86f8-4b1b-95dd-2a0d0d673945",
   "metadata": {},
   "source": [
    "### Problem 2\n",
    "Write a Python function that takes a string(as input and returns a list containing all the words in sen, but sorted in alphabetical order (case-insensitively). "
   ]
  },
  {
   "cell_type": "code",
   "execution_count": 26,
   "id": "f5da5422-ebad-457b-88b9-7d0d1f96622c",
   "metadata": {},
   "outputs": [
    {
     "name": "stdout",
     "output_type": "stream",
     "text": [
      "['at', 'Look', 'photograph', 'this!']\n"
     ]
    }
   ],
   "source": [
    "def sort_words(sen):\n",
    "    l = sen.split()\n",
    "    return sorted(l, key=str.lower)\n",
    "\n",
    "# expected ['at', 'Look', 'photograph', 'this']\n",
    "sen = \"Look at this! photograph\"\n",
    "print(sort_words(sen))\n",
    "\n",
    "# help(str.split) # uncomment to read the documentation\n",
    "# help(list.sort) # uncomment to read the documentation"
   ]
  },
  {
   "cell_type": "markdown",
   "id": "52253f31-c831-4815-bacc-8150e070b603",
   "metadata": {},
   "source": [
    "### Problem 3 String Formatting"
   ]
  },
  {
   "cell_type": "code",
   "execution_count": 46,
   "id": "dfa7593f-7d02-48c8-87a1-10e004996010",
   "metadata": {},
   "outputs": [
    {
     "name": "stdout",
     "output_type": "stream",
     "text": [
      "Xian Zhang scored 85.5 in Stats 507, receiving a grade of B+ and rank 50th in class.\n",
      "Xian Zhang scored 85.5 in Stats 507, receiving a grade of B+ and rank 50th in class.\n",
      "Xian Zhang scored 85.5 in Stats 507, receiving a grade of B+ and rank 50th in class.\n"
     ]
    }
   ],
   "source": [
    "# Xian Zhang scored 85.5 in Stats 507, receiving a grade of B+ and ranking 50th in class.\n",
    "\n",
    "# Given variables\n",
    "name = \"Xian Zhang\"\n",
    "subject = \"Stats 507\"\n",
    "score = 85.5\n",
    "grade = \"B+\"\n",
    "rank = \"50th\"\n",
    "# week 3-2 slides show the answers\n",
    "# 1. Using %-formatting\n",
    "print(name + ' scored %.1f in ' % (score) + subject + ', receiving a grade of ' + grade + ' and rank ' + rank + ' in class.')\n",
    "# 2. Using str.format() method\n",
    "print(name + ' scored {:0.1f} in '.format(score) + subject + ', receiving a grade of ' + grade + ' and rank ' + rank + ' in class.')\n",
    "# 3. Using f-string\n",
    "print(name + f' scored {score:0.1f} in ' + subject + ', receiving a grade of ' + grade + ' and rank ' + rank + ' in class.')"
   ]
  },
  {
   "cell_type": "code",
   "execution_count": null,
   "id": "6b848d05-bc36-4742-89bc-8345017bbf92",
   "metadata": {},
   "outputs": [],
   "source": []
  }
 ],
 "metadata": {
  "kernelspec": {
   "display_name": "Python [conda env:base] *",
   "language": "python",
   "name": "conda-base-py"
  },
  "language_info": {
   "codemirror_mode": {
    "name": "ipython",
    "version": 3
   },
   "file_extension": ".py",
   "mimetype": "text/x-python",
   "name": "python",
   "nbconvert_exporter": "python",
   "pygments_lexer": "ipython3",
   "version": "3.11.7"
  }
 },
 "nbformat": 4,
 "nbformat_minor": 5
}
