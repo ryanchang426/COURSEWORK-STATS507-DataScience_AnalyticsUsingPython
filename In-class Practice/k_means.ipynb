{
 "cells": [
  {
   "cell_type": "code",
   "execution_count": null,
   "id": "823af0e1-a3a5-4020-bc1d-4b54debc47c2",
   "metadata": {},
   "outputs": [],
   "source": [
    "import numpy as np"
   ]
  },
  {
   "cell_type": "code",
   "execution_count": null,
   "id": "4ef85828-c6d0-4233-ba60-7cff99d42712",
   "metadata": {},
   "outputs": [],
   "source": [
    "# Implement the class\n",
    "class kMeans():\n",
    "    # YOUR CODE HERE"
   ]
  },
  {
   "cell_type": "code",
   "execution_count": 6,
   "id": "1c4b9d12-c57c-4911-a78c-5ebf98f27f1b",
   "metadata": {},
   "outputs": [
    {
     "ename": "NameError",
     "evalue": "name 'KMeans' is not defined",
     "output_type": "error",
     "traceback": [
      "\u001b[0;31m---------------------------------------------------------------------------\u001b[0m",
      "\u001b[0;31mNameError\u001b[0m                                 Traceback (most recent call last)",
      "Cell \u001b[0;32mIn[6], line 49\u001b[0m\n\u001b[1;32m     45\u001b[0m     \u001b[38;5;28mprint\u001b[39m(\u001b[38;5;124m\"\u001b[39m\u001b[38;5;124mAll tests passed!\u001b[39m\u001b[38;5;124m\"\u001b[39m)\n\u001b[1;32m     48\u001b[0m \u001b[38;5;28;01mif\u001b[39;00m \u001b[38;5;18m__name__\u001b[39m \u001b[38;5;241m==\u001b[39m \u001b[38;5;124m\"\u001b[39m\u001b[38;5;124m__main__\u001b[39m\u001b[38;5;124m\"\u001b[39m:\n\u001b[0;32m---> 49\u001b[0m     test_kmeans()\n",
      "Cell \u001b[0;32mIn[6], line 13\u001b[0m, in \u001b[0;36mtest_kmeans\u001b[0;34m()\u001b[0m\n\u001b[1;32m      6\u001b[0m X \u001b[38;5;241m=\u001b[39m np\u001b[38;5;241m.\u001b[39marray([\n\u001b[1;32m      7\u001b[0m     [\u001b[38;5;241m0\u001b[39m, \u001b[38;5;241m0\u001b[39m], [\u001b[38;5;241m1\u001b[39m, \u001b[38;5;241m0\u001b[39m], [\u001b[38;5;241m0\u001b[39m, \u001b[38;5;241m1\u001b[39m],      \u001b[38;5;66;03m# Cluster 1\u001b[39;00m\n\u001b[1;32m      8\u001b[0m     [\u001b[38;5;241m5\u001b[39m, \u001b[38;5;241m5\u001b[39m], [\u001b[38;5;241m6\u001b[39m, \u001b[38;5;241m5\u001b[39m], [\u001b[38;5;241m5\u001b[39m, \u001b[38;5;241m6\u001b[39m],      \u001b[38;5;66;03m# Cluster 2\u001b[39;00m\n\u001b[1;32m      9\u001b[0m     [\u001b[38;5;241m10\u001b[39m, \u001b[38;5;241m10\u001b[39m], [\u001b[38;5;241m11\u001b[39m, \u001b[38;5;241m10\u001b[39m], [\u001b[38;5;241m10\u001b[39m, \u001b[38;5;241m11\u001b[39m]  \u001b[38;5;66;03m# Cluster 3\u001b[39;00m\n\u001b[1;32m     10\u001b[0m ])\n\u001b[1;32m     12\u001b[0m np\u001b[38;5;241m.\u001b[39mrandom\u001b[38;5;241m.\u001b[39mseed(\u001b[38;5;241m42\u001b[39m)\n\u001b[0;32m---> 13\u001b[0m kmeans \u001b[38;5;241m=\u001b[39m KMeans(n_clusters\u001b[38;5;241m=\u001b[39m\u001b[38;5;241m3\u001b[39m)\n\u001b[1;32m     14\u001b[0m kmeans\u001b[38;5;241m.\u001b[39mfit(X)\n\u001b[1;32m     16\u001b[0m \u001b[38;5;66;03m# Test number of centroids\u001b[39;00m\n",
      "\u001b[0;31mNameError\u001b[0m: name 'KMeans' is not defined"
     ]
    }
   ],
   "source": [
    "# test the class\n",
    "def test_kmeans():\n",
    "    # Test 1: Basic clustering with clearly separated points\n",
    "    X = np.array([\n",
    "        [0, 0], [1, 0], [0, 1],      # Cluster 1\n",
    "        [5, 5], [6, 5], [5, 6],      # Cluster 2\n",
    "        [10, 10], [11, 10], [10, 11]  # Cluster 3\n",
    "    ])\n",
    "    \n",
    "    np.random.seed(42)\n",
    "    kmeans = KMeans(n_clusters=3)\n",
    "    kmeans.fit(X)\n",
    "    \n",
    "    # Test number of centroids\n",
    "    assert len(kmeans.centroids) == 3, \"Should have 3 centroids\"\n",
    "    \n",
    "    # Test centroid shapes\n",
    "    assert kmeans.centroids.shape == (3, 2), \"Centroids should be 2D\"\n",
    "\n",
    "    X_test = np.random.normal(4, 1, (10, 2))\n",
    "    \n",
    "    # Predict clusters for test data\n",
    "    predictions = kmeans.predict(X_test)\n",
    "    print(\"Predictions for test data:\", predictions)\n",
    "    \n",
    "    # Test 2: Random data\n",
    "    np.random.seed(42)\n",
    "    X_random = np.random.randn(100, 2) * 3\n",
    "    X_random[:33] += np.array([10, 10])\n",
    "    X_random[33:66] += np.array([-10, -10])\n",
    "    \n",
    "    kmeans = KMeans(n_clusters=3)\n",
    "    kmeans.fit(X_random)\n",
    "    \n",
    "    distances = np.linalg.norm(X_random[:, np.newaxis] - kmeans.centroids, axis=2)\n",
    "    labels = np.argmin(distances, axis=1)\n",
    "    \n",
    "    # Test cluster sizes are reasonable\n",
    "    unique, counts = np.unique(labels, return_counts=True)\n",
    "    assert len(unique) == 3, \"Should have 3 unique clusters\"\n",
    "    assert all(counts > 5), \"Each cluster should have multiple points\"\n",
    "    \n",
    "    print(\"All tests passed!\")\n",
    "    \n",
    "\n",
    "if __name__ == \"__main__\":\n",
    "    test_kmeans()"
   ]
  },
  {
   "cell_type": "code",
   "execution_count": null,
   "id": "d1179807-3173-40bd-83dc-81d4400b824c",
   "metadata": {},
   "outputs": [],
   "source": []
  }
 ],
 "metadata": {
  "kernelspec": {
   "display_name": "Python [conda env:base] *",
   "language": "python",
   "name": "conda-base-py"
  },
  "language_info": {
   "codemirror_mode": {
    "name": "ipython",
    "version": 3
   },
   "file_extension": ".py",
   "mimetype": "text/x-python",
   "name": "python",
   "nbconvert_exporter": "python",
   "pygments_lexer": "ipython3",
   "version": "3.11.7"
  }
 },
 "nbformat": 4,
 "nbformat_minor": 5
}
