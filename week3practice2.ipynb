{
 "cells": [
  {
   "cell_type": "markdown",
   "metadata": {
    "colab_type": "text",
    "deletable": false,
    "id": "ck4jLznJiooB",
    "nbgrader": {
     "checksum": "38b4cbfd496d80940cfa87c97061e3be",
     "grade": false,
     "grade_id": "cell-b1db85bf05a65a79",
     "locked": true,
     "schema_version": 3,
     "solution": false,
     "task": false
    }
   },
   "source": [
    "### Lecture 3-2 Practice: Lambda Functions and Dictionaries"
   ]
  },
  {
   "cell_type": "markdown",
   "metadata": {
    "colab_type": "text",
    "deletable": false,
    "id": "7e5PDMTdlnhr",
    "nbgrader": {
     "checksum": "028c604f7c4a6b0fd489eb9063fb71bd",
     "grade": false,
     "grade_id": "cell-473f900194560999",
     "locked": true,
     "schema_version": 3,
     "solution": false,
     "task": false
    }
   },
   "source": [
    "### Question 1\n",
    "Sorting with lambda key functions."
   ]
  },
  {
   "cell_type": "code",
   "execution_count": 14,
   "metadata": {
    "colab": {},
    "colab_type": "code",
    "id": "WxAZ_1kim6sh",
    "nbgrader": {
     "checksum": "2eedbb0747607347736b7d1a4128c272",
     "grade": false,
     "grade_id": "cell-6c67d579c481de9b",
     "locked": false,
     "schema_version": 3,
     "solution": true,
     "task": false
    }
   },
   "outputs": [
    {
     "name": "stdout",
     "output_type": "stream",
     "text": [
      "[1, -2, 3, -4]\n",
      "['cat', 'apple', 'banana']\n"
     ]
    }
   ],
   "source": [
    "# Sort list of numbers by absolute value\n",
    "nums = [-4, 1, -2, 3]\n",
    "nums.sort(key=lambda x: abs(x))\n",
    "assert(nums == [1, -2, 3, -4])\n",
    "print(nums)\n",
    "\n",
    "# Sort list of strings by length.\n",
    "words = ['apple', 'cat', 'banana'] \n",
    "words.sort(key=lambda x: len(x))\n",
    "assert(words == ['cat', 'apple', 'banana'])\n",
    "print(words)"
   ]
  },
  {
   "cell_type": "markdown",
   "metadata": {},
   "source": [
    "### Question 2\n",
    "Given an array of intervals where `intervals[i] = [starti, endi]`, merge all overlapping intervals, and return an array of the non-overlapping intervals that cover all the intervals in the input. (Note: this is a classical interview question from Leetcode)\n",
    "\n",
    "Example:\n",
    "\n",
    "Input: [[1,3],[2,6],[8,10],[15,18]]\n",
    "\n",
    "Output: [[1,6],[8,10],[15,18]]"
   ]
  },
  {
   "cell_type": "code",
   "execution_count": 20,
   "metadata": {},
   "outputs": [],
   "source": [
    "# def merge_intervals(intervals):\n",
    "#    y = []\n",
    "#    z = []\n",
    "#    for x in intervals:\n",
    "#      if x[0] < y[1]:\n",
    "#            z.pop()\n",
    "#            z.append([y[0],x[1]])\n",
    "#        else:\n",
    "#            z.append(x)\n",
    "#        y = x\n",
    "#    return z\n",
    "\n"
   ]
  },
  {
   "cell_type": "code",
   "execution_count": 22,
   "metadata": {},
   "outputs": [
    {
     "ename": "IndexError",
     "evalue": "list index out of range",
     "output_type": "error",
     "traceback": [
      "\u001b[0;31m---------------------------------------------------------------------------\u001b[0m",
      "\u001b[0;31mIndexError\u001b[0m                                Traceback (most recent call last)",
      "Cell \u001b[0;32mIn[22], line 1\u001b[0m\n\u001b[0;32m----> 1\u001b[0m \u001b[38;5;28;01massert\u001b[39;00m merge_intervals([[\u001b[38;5;241m1\u001b[39m,\u001b[38;5;241m3\u001b[39m],[\u001b[38;5;241m2\u001b[39m,\u001b[38;5;241m6\u001b[39m],[\u001b[38;5;241m8\u001b[39m,\u001b[38;5;241m10\u001b[39m],[\u001b[38;5;241m15\u001b[39m,\u001b[38;5;241m18\u001b[39m]]) \u001b[38;5;241m==\u001b[39m [[\u001b[38;5;241m1\u001b[39m,\u001b[38;5;241m6\u001b[39m],[\u001b[38;5;241m8\u001b[39m,\u001b[38;5;241m10\u001b[39m],[\u001b[38;5;241m15\u001b[39m,\u001b[38;5;241m18\u001b[39m]]\n\u001b[1;32m      2\u001b[0m \u001b[38;5;28;01massert\u001b[39;00m merge_intervals([[\u001b[38;5;241m1\u001b[39m,\u001b[38;5;241m6\u001b[39m],[\u001b[38;5;241m2\u001b[39m,\u001b[38;5;241m4\u001b[39m],[\u001b[38;5;241m3\u001b[39m,\u001b[38;5;241m5\u001b[39m]]) \u001b[38;5;241m==\u001b[39m [[\u001b[38;5;241m1\u001b[39m,\u001b[38;5;241m6\u001b[39m]]\n\u001b[1;32m      3\u001b[0m \u001b[38;5;28;01massert\u001b[39;00m merge_intervals([[\u001b[38;5;241m-\u001b[39m\u001b[38;5;241m4\u001b[39m,\u001b[38;5;241m-\u001b[39m\u001b[38;5;241m1\u001b[39m],[\u001b[38;5;241m-\u001b[39m\u001b[38;5;241m2\u001b[39m,\u001b[38;5;241m3\u001b[39m],[\u001b[38;5;241m2\u001b[39m,\u001b[38;5;241m6\u001b[39m]]) \u001b[38;5;241m==\u001b[39m [[\u001b[38;5;241m-\u001b[39m\u001b[38;5;241m4\u001b[39m,\u001b[38;5;241m6\u001b[39m]]\n",
      "Cell \u001b[0;32mIn[20], line 5\u001b[0m, in \u001b[0;36mmerge_intervals\u001b[0;34m(intervals)\u001b[0m\n\u001b[1;32m      3\u001b[0m z \u001b[38;5;241m=\u001b[39m []\n\u001b[1;32m      4\u001b[0m \u001b[38;5;28;01mfor\u001b[39;00m x \u001b[38;5;129;01min\u001b[39;00m intervals:\n\u001b[0;32m----> 5\u001b[0m     \u001b[38;5;28;01mif\u001b[39;00m x[\u001b[38;5;241m0\u001b[39m] \u001b[38;5;241m<\u001b[39m y[\u001b[38;5;241m1\u001b[39m]:\n\u001b[1;32m      6\u001b[0m         z\u001b[38;5;241m.\u001b[39mpop()\n\u001b[1;32m      7\u001b[0m         z\u001b[38;5;241m.\u001b[39mappend([y[\u001b[38;5;241m0\u001b[39m],x[\u001b[38;5;241m1\u001b[39m]])\n",
      "\u001b[0;31mIndexError\u001b[0m: list index out of range"
     ]
    }
   ],
   "source": [
    "assert merge_intervals([[1,3],[2,6],[8,10],[15,18]]) == [[1,6],[8,10],[15,18]]\n",
    "assert merge_intervals([[1,6],[2,4],[3,5]]) == [[1,6]]\n",
    "assert merge_intervals([[-4,-1],[-2,3],[2,6]]) == [[-4,6]] "
   ]
  },
  {
   "cell_type": "markdown",
   "metadata": {
    "colab_type": "text",
    "id": "7e5PDMTdlnhr",
    "nbgrader": {
     "checksum": "028c604f7c4a6b0fd489eb9063fb71bd",
     "grade": false,
     "grade_id": "cell-473f900194560999",
     "locked": true,
     "schema_version": 3,
     "solution": false,
     "task": false
    }
   },
   "source": [
    "### Question 3\n",
    "Define a function called `switch_key_value`, which takes a dictionary as its only argument. Switch the placement of key and value of the dictionary and return it as a new dictionary."
   ]
  },
  {
   "cell_type": "code",
   "execution_count": 56,
   "metadata": {
    "colab": {},
    "colab_type": "code",
    "deletable": false,
    "id": "WxAZ_1kim6sh",
    "nbgrader": {
     "checksum": "2eedbb0747607347736b7d1a4128c272",
     "grade": false,
     "grade_id": "cell-6c67d579c481de9b",
     "locked": false,
     "schema_version": 3,
     "solution": true,
     "task": false
    }
   },
   "outputs": [],
   "source": [
    "def switch_key_value(d):\n",
    "    ans = {}\n",
    "    for k,v in d.items():\n",
    "        print(\"key\",k)\n",
    "        print(\"value\",v)\n",
    "        ans[v] = k\n",
    "        print(ans)\n",
    "    return ans"
   ]
  },
  {
   "cell_type": "code",
   "execution_count": 58,
   "metadata": {
    "colab": {
     "base_uri": "https://localhost:8080/",
     "height": 50
    },
    "colab_type": "code",
    "deletable": false,
    "editable": false,
    "executionInfo": {
     "elapsed": 562,
     "status": "ok",
     "timestamp": 1579292843147,
     "user": {
      "displayName": "Su I Iao",
      "photoUrl": "",
      "userId": "14332281953821438041"
     },
     "user_tz": 300
    },
    "id": "z_dqA7Iknyi8",
    "nbgrader": {
     "checksum": "295bb45d13286ea6380482681f8b6dbd",
     "grade": true,
     "grade_id": "cell-a0b5ecba31ff8afb",
     "locked": true,
     "points": 1,
     "schema_version": 3,
     "solution": false,
     "task": false
    },
    "outputId": "c6c75a12-4bf5-4a4a-fec6-d8ff32a615b8"
   },
   "outputs": [
    {
     "name": "stdout",
     "output_type": "stream",
     "text": [
      "key a\n",
      "value 1\n",
      "{1: 'a'}\n",
      "key b\n",
      "value 2\n",
      "{1: 'a', 2: 'b'}\n"
     ]
    }
   ],
   "source": [
    "assert(switch_key_value({}) == {})\n",
    "assert(switch_key_value({'a': 1, 'b': 2}) == {1: 'a', 2: 'b'})"
   ]
  },
  {
   "cell_type": "markdown",
   "metadata": {
    "colab_type": "text",
    "deletable": false,
    "id": "VFPssm6_FZc3",
    "nbgrader": {
     "checksum": "a87f38c8492b61767e885d079d2d302a",
     "grade": false,
     "grade_id": "cell-0a8adc1fa6b34e68",
     "locked": true,
     "schema_version": 3,
     "solution": false,
     "task": false
    }
   },
   "source": [
    "### Question 4\n",
    "Define a function called `sort_list_dict`, which takes a dictionary whose values are lists as its only argument. Sort all these lists alphabetically return them in a new dictionary (with the same keys)."
   ]
  },
  {
   "cell_type": "code",
   "execution_count": 70,
   "metadata": {
    "colab": {},
    "colab_type": "code",
    "deletable": false,
    "id": "JHxAJ3FVFZtp",
    "nbgrader": {
     "checksum": "b56a1aa75b1fd9167b0fe4e604544558",
     "grade": false,
     "grade_id": "cell-996c61e79b68ca6d",
     "locked": false,
     "schema_version": 3,
     "solution": true,
     "task": false
    }
   },
   "outputs": [
    {
     "name": "stdout",
     "output_type": "stream",
     "text": [
      "[4, 1, 2, 3]\n",
      "[3, 2, 1]\n"
     ]
    },
    {
     "data": {
      "text/plain": [
       "{'a': [1, 2, 3, 4], 'b': [1, 2, 3]}"
      ]
     },
     "execution_count": 70,
     "metadata": {},
     "output_type": "execute_result"
    }
   ],
   "source": [
    "input_dict = {'a': [4, 1, 2, 3], 'b': [3, 2, 1]}\n",
    "def sort_list_dict(d):\n",
    "    ans={} \n",
    "    for k,v in d.items():\n",
    "         print(v)\n",
    "         ans[k]=sorted(v)\n",
    "    return ans\n",
    "sort_list_dict(input_dict)"
   ]
  },
  {
   "cell_type": "code",
   "execution_count": 72,
   "metadata": {
    "colab": {
     "base_uri": "https://localhost:8080/",
     "height": 67
    },
    "colab_type": "code",
    "deletable": false,
    "editable": false,
    "executionInfo": {
     "elapsed": 549,
     "status": "ok",
     "timestamp": 1579292870194,
     "user": {
      "displayName": "Su I Iao",
      "photoUrl": "",
      "userId": "14332281953821438041"
     },
     "user_tz": 300
    },
    "id": "jVSzw4ivFaCH",
    "nbgrader": {
     "checksum": "7932ad3e28e709a6bd84389f8fc9584f",
     "grade": true,
     "grade_id": "cell-f752b519fbf2ac78",
     "locked": true,
     "points": 1,
     "schema_version": 3,
     "solution": false,
     "task": false
    },
    "outputId": "f76a2571-e22b-4bc3-e8b9-4368c538fde4"
   },
   "outputs": [
    {
     "name": "stdout",
     "output_type": "stream",
     "text": [
      "[]\n",
      "[4, 1, 2, 3]\n",
      "[3, 2, 1]\n",
      "[2, 3, 1]\n",
      "[5, 1, 2]\n",
      "[3, 2, 4]\n"
     ]
    }
   ],
   "source": [
    "assert(sort_list_dict({}) == {})\n",
    "\n",
    "assert(sort_list_dict({'a': []}) == {'a': []})\n",
    "\n",
    "input_dict = {'a': [4, 1, 2, 3], 'b': [3, 2, 1]}\n",
    "desired_output = {'a': [1, 2, 3, 4], 'b': [1, 2, 3]}\n",
    "assert(sort_list_dict(input_dict) == desired_output)\n",
    "\n",
    "input_dict = {'S': [2, 3, 1], 'T': [5, 1, 2], 'D': [3, 2, 4]}\n",
    "desired_output = {'S': [1, 2, 3], 'T': [1, 2, 5], 'D': [2, 3, 4]}\n",
    "assert(sort_list_dict(input_dict) == desired_output)"
   ]
  },
  {
   "cell_type": "code",
   "execution_count": null,
   "metadata": {},
   "outputs": [],
   "source": []
  }
 ],
 "metadata": {
  "colab": {
   "collapsed_sections": [],
   "name": "Lecture 2 practice Solution.ipynb",
   "provenance": []
  },
  "kernelspec": {
   "display_name": "Python [conda env:base] *",
   "language": "python",
   "name": "conda-base-py"
  },
  "language_info": {
   "codemirror_mode": {
    "name": "ipython",
    "version": 3
   },
   "file_extension": ".py",
   "mimetype": "text/x-python",
   "name": "python",
   "nbconvert_exporter": "python",
   "pygments_lexer": "ipython3",
   "version": "3.11.7"
  }
 },
 "nbformat": 4,
 "nbformat_minor": 4
}
